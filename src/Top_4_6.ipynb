{
 "cells": [
  {
   "cell_type": "markdown",
   "id": "48c1d872",
   "metadata": {},
   "source": [
    "### Top-4 and Top-6 rationales "
   ]
  },
  {
   "cell_type": "code",
   "execution_count": 1,
   "id": "0b009984",
   "metadata": {},
   "outputs": [],
   "source": [
    "import json \n",
    "import pandas as pd\n",
    "import numpy as np\n",
    "\n",
    "import copy"
   ]
  },
  {
   "cell_type": "code",
   "execution_count": 2,
   "id": "60f8efa8",
   "metadata": {},
   "outputs": [],
   "source": [
    "def read_json(file_path):\n",
    "    with open(file_path, 'r') as file:\n",
    "        data = json.load(file)\n",
    "        return data  "
   ]
  },
  {
   "cell_type": "code",
   "execution_count": 3,
   "id": "bdd17f17",
   "metadata": {},
   "outputs": [],
   "source": [
    "def makeJSON(data_list, file_name):\n",
    "    with open(file_name, 'w') as json_file:\n",
    "        json.dump(data_list, json_file, indent=4)\n",
    "    print(f\"Data has been written to {file_name}\")"
   ]
  },
  {
   "cell_type": "code",
   "execution_count": 4,
   "id": "299b2761",
   "metadata": {},
   "outputs": [],
   "source": [
    "def TopNRationales(rationale_data, n):\n",
    "    ranked_dataset = copy.deepcopy(rationale_data)\n",
    "    for i in range(len(ranked_dataset)):\n",
    "        if( len(ranked_dataset[i]['ranking']) <= n):\n",
    "            # there is no need to get the top-n rationales \n",
    "            continue\n",
    "        d = list()\n",
    "        for j in range(n):\n",
    "            d.append(ranked_dataset[i]['ranking'][j])\n",
    "        ranked_dataset[i]['ranking'] = d\n",
    "    return ranked_dataset"
   ]
  },
  {
   "cell_type": "code",
   "execution_count": null,
   "id": "086780d1",
   "metadata": {},
   "outputs": [],
   "source": []
  },
  {
   "cell_type": "code",
   "execution_count": 5,
   "id": "ec00e2be",
   "metadata": {},
   "outputs": [],
   "source": [
    "# path \n",
    "addsub = read_json(\"/Users/shiprasingh/IIT KGP internship /reasoning-teacher/src/MMR_FlanT5Base/MMR_FlanT5Base_BERT_0.50/addsub_mmr_flanT5base_bert_L0.50.json\")\n",
    "coin = read_json(\"/Users/shiprasingh/IIT KGP internship /reasoning-teacher/src/MMR_FlanT5Base/MMR_FlanT5Base_BERT_0.50/coin_flip_mmr_flanT5base_bert_L0.50.json\")\n",
    "date = read_json(\"/Users/shiprasingh/IIT KGP internship /reasoning-teacher/src/MMR_FlanT5Base/MMR_FlanT5Base_BERT_0.50/date_understanding_mmr_flanT5base_bert_L0.50.json\")\n",
    "llcon = read_json(\"/Users/shiprasingh/IIT KGP internship /reasoning-teacher/src/MMR_FlanT5Base/MMR_FlanT5Base_BERT_0.50/Last_Letter_Concatenation_mmr_flanT5base_bert_L0.50.json\")"
   ]
  },
  {
   "cell_type": "code",
   "execution_count": 6,
   "id": "08f6b4ca",
   "metadata": {},
   "outputs": [],
   "source": [
    "addsub_ranked = TopNRationales(addsub, 4)\n",
    "coin_ranked = TopNRationales(coin, 4)\n",
    "date_ranked = TopNRationales(date, 4)\n",
    "llcon_ranked = TopNRationales(llcon, 4)"
   ]
  },
  {
   "cell_type": "code",
   "execution_count": 7,
   "id": "485cec93",
   "metadata": {},
   "outputs": [
    {
     "name": "stdout",
     "output_type": "stream",
     "text": [
      "Data has been written to addsub_mmr_flanT5base_bert_L0.50_top4.json\n",
      "Data has been written to coin_flip_mmr_flanT5base_bert_L0.50_top4.json\n",
      "Data has been written to date_understanding_mmr_flanT5base_bert_L0.50_top4.json\n",
      "Data has been written to Last_Letter_Concatenation_mmr_flanT5base_bert_L0.50_top4.json\n"
     ]
    }
   ],
   "source": [
    "makeJSON(addsub_ranked, \"addsub_mmr_flanT5base_bert_L0.50_top4.json\")\n",
    "makeJSON(coin_ranked, \"coin_flip_mmr_flanT5base_bert_L0.50_top4.json\")\n",
    "makeJSON(date_ranked, \"date_understanding_mmr_flanT5base_bert_L0.50_top4.json\")\n",
    "makeJSON(llcon_ranked, \"Last_Letter_Concatenation_mmr_flanT5base_bert_L0.50_top4.json\")"
   ]
  },
  {
   "cell_type": "code",
   "execution_count": null,
   "id": "54fe21d2",
   "metadata": {},
   "outputs": [],
   "source": []
  }
 ],
 "metadata": {
  "kernelspec": {
   "display_name": "Python 3 (ipykernel)",
   "language": "python",
   "name": "python3"
  },
  "language_info": {
   "codemirror_mode": {
    "name": "ipython",
    "version": 3
   },
   "file_extension": ".py",
   "mimetype": "text/x-python",
   "name": "python",
   "nbconvert_exporter": "python",
   "pygments_lexer": "ipython3",
   "version": "3.9.12"
  }
 },
 "nbformat": 4,
 "nbformat_minor": 5
}
