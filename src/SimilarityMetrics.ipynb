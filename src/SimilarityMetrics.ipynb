{
 "cells": [
  {
   "cell_type": "code",
   "execution_count": 1,
   "id": "9ef3222e",
   "metadata": {
    "scrolled": true
   },
   "outputs": [],
   "source": [
    "import nltk \n",
    "import json \n",
    "import pandas as pd\n",
    "import numpy as np\n",
    "import matplotlib as plt\n",
    "import seaborn as sns \n",
    "\n",
    "import time\n",
    "from tqdm import tqdm"
   ]
  },
  {
   "cell_type": "code",
   "execution_count": 2,
   "id": "78e20645",
   "metadata": {},
   "outputs": [],
   "source": [
    "from transformers import AutoTokenizer, AutoModelForSequenceClassification, BertTokenizer, BertModel\n",
    "from rouge_score import rouge_scorer\n",
    "from transformers import BertTokenizer, BertModel\n",
    "import torch"
   ]
  },
  {
   "cell_type": "markdown",
   "id": "d1bd2dd5",
   "metadata": {},
   "source": [
    "## Modules for data extraction "
   ]
  },
  {
   "cell_type": "code",
   "execution_count": 3,
   "id": "4e92bf47",
   "metadata": {
    "scrolled": true
   },
   "outputs": [],
   "source": [
    "# The following section is for reading JSON files\n",
    "\n",
    "def read_json(file_path):\n",
    "    with open(file_path, 'r') as file:\n",
    "        data = json.load(file)\n",
    "        return data  "
   ]
  },
  {
   "cell_type": "code",
   "execution_count": 4,
   "id": "84172e31",
   "metadata": {},
   "outputs": [],
   "source": [
    "# following function removes samples that are incorrect \n",
    "def correct_rationale_dict(ds_dict):\n",
    "    correct_list = []\n",
    "    ds_data = ds_dict['data']\n",
    "    for key in ds_data.keys():\n",
    "        if len(ds_data[key]) > 1 :\n",
    "            l = []\n",
    "            for i in ds_data[key]:\n",
    "                # this is within the list corresponding to each index in data dictionary\n",
    "                # i is a dictionary \n",
    "                if i['answer'] in i['completion']:\n",
    "                    l.append(i)\n",
    "            correct_list.append(l)\n",
    "    return correct_list"
   ]
  },
  {
   "cell_type": "code",
   "execution_count": 5,
   "id": "cfc2f275",
   "metadata": {},
   "outputs": [],
   "source": [
    "# following function makes a list of list containing all the rationales with multiple reasonings\n",
    "# each list within this list corresponds to one sample index.\n",
    "# each list within this list contains multiple dictionaries with same sample_index and different completion_index\n",
    "def rationale_dict(ds_dict):\n",
    "    rationale_list = []\n",
    "    ds_data = ds_dict['data']\n",
    "    for key in ds_data.keys():\n",
    "        if len(ds_data[key]) > 1 :\n",
    "            l = []\n",
    "            for i in ds_data[key]:\n",
    "                l.append(i)\n",
    "            # append the list \n",
    "            rationale_list.append(l)\n",
    "    return rationale_list\n"
   ]
  },
  {
   "cell_type": "code",
   "execution_count": 6,
   "id": "a5055f0c",
   "metadata": {},
   "outputs": [],
   "source": [
    "# Modifies the list into a list only containing the sample_index, completion_index, reasoning_prompt\n",
    "\n",
    "def helper(ds_list):\n",
    "    for i in range(len(ds_list)):\n",
    "        for j in range(len(ds_list[i])):\n",
    "            d = dict()\n",
    "            d2 = ds_list[i][j]\n",
    "            d['sample_index'] = d2['sample_index']\n",
    "            d['completion_index'] = d2['completion_index']\n",
    "            d['reasoning_completion'] = d2['reasoning_completion']\n",
    "            ds_list[i][j] = d"
   ]
  },
  {
   "cell_type": "markdown",
   "id": "ba5d9bd7",
   "metadata": {},
   "source": [
    "## Modules for calculating score"
   ]
  },
  {
   "cell_type": "markdown",
   "id": "e06109a4",
   "metadata": {},
   "source": [
    "### Calculation of BERTscore\n",
    "\n",
    "The similarity between two sentences is computed as the sum of the cosine similarities between their token embeddings, thereby providing the capability to detect paraphrases."
   ]
  },
  {
   "cell_type": "code",
   "execution_count": 7,
   "id": "42604e30",
   "metadata": {},
   "outputs": [],
   "source": [
    "def calculate_bertscore(text1, text2, tokenizer, model):\n",
    "    inputs = tokenizer([text1, text2], return_tensors='pt', padding=True, truncation=True)\n",
    "    with torch.no_grad():\n",
    "        outputs = model(**inputs)\n",
    "    \n",
    "    embeddings = outputs.last_hidden_state\n",
    "    # Calculate cosine similarity between the embeddings of text1 and text2\n",
    "    similarity = torch.nn.functional.cosine_similarity(embeddings[0], embeddings[1], dim=0).mean().item()\n",
    "    return similarity\n"
   ]
  },
  {
   "cell_type": "markdown",
   "id": "9b17eaf6",
   "metadata": {},
   "source": [
    "### Calculation of ROGUE score"
   ]
  },
  {
   "cell_type": "code",
   "execution_count": 8,
   "id": "42592b0b",
   "metadata": {},
   "outputs": [],
   "source": [
    "def calculate_rouge(text1, text2):\n",
    "    scorer = rouge_scorer.RougeScorer(['rouge1', 'rougeL', 'rouge2'], use_stemmer=True)\n",
    "    scores = scorer.score(text1, text2)\n",
    "    return scores"
   ]
  },
  {
   "cell_type": "markdown",
   "id": "7dafddc9",
   "metadata": {},
   "source": [
    "### Function for pair-wise score calculation"
   ]
  },
  {
   "cell_type": "code",
   "execution_count": 9,
   "id": "190b86ff",
   "metadata": {},
   "outputs": [],
   "source": [
    "# the following funtion makes the pairs and calls the score_calculator functioin on each pair\n",
    "# next it stores it in a data type \n",
    "\n",
    "# structure of the data type - a list --> [sample_index, (completion_index1, completion_index2), BERT, ROGUE]\n",
    "\n",
    "def results(ds_list, res_score):\n",
    "    bert_tokenizer = BertTokenizer.from_pretrained('bert-base-uncased')\n",
    "    bert_model = BertModel.from_pretrained('bert-base-uncased') \n",
    "    print(\"start\")\n",
    "    for i in range(len(ds_list)):\n",
    "        for r1 in range(0, len(ds_list[i])):\n",
    "            for r2 in range(r1 + 1, len(ds_list[i])):\n",
    "                text1 = ds_list[i][r1]['reasoning_completion']\n",
    "                text2 = ds_list[i][r2]['reasoning_completion']\n",
    "                \n",
    "                # calculate scores\n",
    "                bert_score = calculate_bertscore(text1, text2, bert_tokenizer, bert_model)\n",
    "                \n",
    "                # rouge score\n",
    "                rouge_score = calculate_rouge(text1, text2)\n",
    "                \n",
    "                # inserting values\n",
    "                result = dict()\n",
    "                result['sample_index'] = i\n",
    "                result['c1'] = ds_list[i][r1]['completion_index']\n",
    "                result['c2'] = ds_list[i][r2]['completion_index']\n",
    "                result['bert_score'] = bert_score\n",
    "                result['rouge_score'] = rouge_score\n",
    "                \n",
    "                res_score.append(result)\n",
    "        # checks\n",
    "        if i%50 == 0:\n",
    "            print(i)\n",
    "        "
   ]
  },
  {
   "cell_type": "markdown",
   "id": "760be321",
   "metadata": {},
   "source": [
    "### Converting results to a tabular form "
   ]
  },
  {
   "cell_type": "code",
   "execution_count": 27,
   "id": "61943116",
   "metadata": {},
   "outputs": [],
   "source": [
    "# the following function makes a dataframe out of a list \n",
    "# the ROUGE1, ROUGE2, ROUGE-L columns contain the fmeasure of the respective quantities \n",
    "def tabularForm(ds_list):\n",
    "    table = pd.DataFrame(ds_list)\n",
    "    table['ROUGE1'] = 0\n",
    "    table['ROUGE-L'] = 0\n",
    "    table['ROUGE2'] = 0\n",
    "    table['BERT'] = 0\n",
    "    for i in range(len(ds_list)):\n",
    "        # i is an int \n",
    "        rouge_score = ds_list[i]['rouge_score']           # rouge_score is a dictionary \n",
    "        table.loc[i,'ROUGE1'] = rouge_score['rouge1'].fmeasure\n",
    "        table.loc[i,'ROUGE-L'] = rouge_score['rougeL'].fmeasure\n",
    "        table.loc[i,'ROUGE2'] = rouge_score['rouge2'].fmeasure\n",
    "        table.loc[i,'BERT'] = ds_list[i]['bert_score']\n",
    "        \n",
    "    return table"
   ]
  },
  {
   "cell_type": "markdown",
   "id": "934365fc",
   "metadata": {},
   "source": [
    "The following function removes incorrect samples "
   ]
  },
  {
   "cell_type": "markdown",
   "id": "88452f9a",
   "metadata": {},
   "source": [
    "### Visualisation "
   ]
  },
  {
   "cell_type": "markdown",
   "id": "65df8f54",
   "metadata": {},
   "source": [
    "###### Box Plot"
   ]
  },
  {
   "cell_type": "code",
   "execution_count": 11,
   "id": "4c46b973",
   "metadata": {},
   "outputs": [],
   "source": [
    "# box plots for ROUGE scores\n",
    "def boxPlot(df, colour):\n",
    "    # Create subplots\n",
    "    fig, axs = plt.pyplot.subplots(1, 3, figsize=(15, 5))\n",
    "\n",
    "    sns.boxplot(y=df['ROUGE1'], ax=axs[0], color=colour)\n",
    "    axs[0].set_title('ROUGE1')\n",
    "    axs[0].set_ylim(0, 1)\n",
    "\n",
    "    sns.boxplot(y=df['ROUGE2'], ax=axs[1], color=colour)\n",
    "    axs[1].set_title('ROUGE2')\n",
    "    axs[1].set_ylim(0, 1)\n",
    "\n",
    "    sns.boxplot(y=df['ROUGE-L'], ax=axs[2], color=colour)\n",
    "    axs[2].set_title('ROUGE-L')\n",
    "    axs[2].set_ylim(0, 1)\n",
    "\n",
    "    # Add an overall title to the figure\n",
    "    fig.suptitle('Box Plots of ROUGE Scores')\n",
    "\n",
    "    #plt.pyplot.tight_layout()\n",
    "    plt.pyplot.show()\n"
   ]
  },
  {
   "cell_type": "markdown",
   "id": "2cb53de6",
   "metadata": {},
   "source": [
    "##### Min Max Median"
   ]
  },
  {
   "cell_type": "code",
   "execution_count": 12,
   "id": "3879338a",
   "metadata": {},
   "outputs": [],
   "source": [
    "def format_statistics(series):\n",
    "    min_value = series.min()\n",
    "    max_value = series.max()\n",
    "    median_value = series.median()\n",
    "    q1_value = series.quantile(0.25)\n",
    "    q3_value = series.quantile(0.75)\n",
    "    return f\"Min: {min_value:.2f}, Max: {max_value:.2f}, Median: {median_value:.2f}, Q1: {q1_value:.2f}, Q3: {q3_value:.2f}\""
   ]
  },
  {
   "cell_type": "markdown",
   "id": "8f921650",
   "metadata": {},
   "source": [
    "# Calculating results \n",
    "\n",
    "For the calculation of results we will be using only the datasets that have samples generated with sampling temperature = 0.7 to test the hypothesis.\n",
    "\n",
    "\n",
    "##### Following datasets give the highest accuracy scores when used on models using Fine Tune Chain-of-Thoughts with diverse reasoning\n",
    "1. Single Eq (24.34)\n",
    "2. MultiArith (53.33) (wont work yet)\n",
    "3. SVAMP (30.33) (wonr work yet)\n",
    "4. Date Understanding (83.78)\n",
    "5. Shuffled Objects (73.33)\n",
    "6. Last Letter Concatenation (62.00)\n",
    "7. Coin Flip (100.00)"
   ]
  },
  {
   "cell_type": "code",
   "execution_count": 13,
   "id": "645add2f",
   "metadata": {},
   "outputs": [],
   "source": [
    "# Loading datasets\n",
    "\n",
    "\"\"\"\n",
    "1. Addsub\n",
    "2. Coin flip\n",
    "3. Date Understanding (incorrect samples included)\n",
    "4. Last Letter Concatenation (incorrect samples included)\n",
    "5. MultiArith (incorrect samples included)\n",
    "6. Single Eq (incorrect samples included)\n",
    "7. Strategy QA (incorrect samples included)\n",
    "8. SVAMP (incorrect samples included)\n",
    "9. Trackling Shuffled Objects (incorrect samples included)\n",
    "\"\"\"\n",
    "\n",
    "# paths\n",
    "addsub70_path = '/Users/shiprasingh/IIT KGP internship /reasoning-teacher/saved/teacher_completion_data/B_text-davinci-002__C_zs_cot_t70/D_addsub.json'\n",
    "coin70_path = '/Users/shiprasingh/IIT KGP internship /reasoning-teacher/saved/teacher_completion_data/B_text-davinci-002__C_zs_cot_t70/D_coin_flip.json'\n",
    "du70_path = '/Users/shiprasingh/IIT KGP internship /reasoning-teacher/saved/teacher_completion_data/B_text-davinci-002__C_zs_cot_t70/D_date_understanding.json'\n",
    "llconc70_path = '/Users/shiprasingh/IIT KGP internship /reasoning-teacher/saved/teacher_completion_data/B_text-davinci-002__C_zs_cot_t70/D_last_letter_concatenation.json'\n",
    "mulAr70_path = '/Users/shiprasingh/IIT KGP internship /reasoning-teacher/saved/teacher_completion_data/B_text-davinci-002__C_zs_cot_t70/D_multiarith.json'\n",
    "seq70_path = '/Users/shiprasingh/IIT KGP internship /reasoning-teacher/saved/teacher_completion_data/B_text-davinci-002__C_zs_cot_t70/D_single_eq.json'\n",
    "strat70_path = '/Users/shiprasingh/IIT KGP internship /reasoning-teacher/saved/teacher_completion_data/B_text-davinci-002__C_zs_cot_t70/D_strategy_qa.json'\n",
    "svamp70_path = '/Users/shiprasingh/IIT KGP internship /reasoning-teacher/saved/teacher_completion_data/B_text-davinci-002__C_zs_cot_t70/D_svamp.json'\n",
    "tso70_path = '/Users/shiprasingh/IIT KGP internship /reasoning-teacher/saved/teacher_completion_data/B_text-davinci-002__C_zs_cot_t70/D_tracking_shuffled_objects.json'\n",
    "\n",
    "# Reading JSON data. The read_json() function returns a dictionary\n",
    "addsub70 = read_json(addsub70_path)\n",
    "coin70 = read_json(coin70_path)\n",
    "du70 = read_json(du70_path)\n",
    "llconc70 = read_json(llconc70_path)\n",
    "mulAr70 = read_json(mulAr70_path)\n",
    "seq70 = read_json(seq70_path)\n",
    "strat70 = read_json(strat70_path)\n",
    "svamp70 = read_json(svamp70_path)\n",
    "tso70 = read_json(tso70_path)"
   ]
  },
  {
   "cell_type": "code",
   "execution_count": 14,
   "id": "c67ba8a3",
   "metadata": {},
   "outputs": [],
   "source": [
    "# making rationale dictionaries with CORRECT rationales\n",
    "\n",
    "addsub70_Clist = correct_rationale_dict(addsub70)\n",
    "coin70_Clist = correct_rationale_dict(coin70)\n",
    "du70_Clist = correct_rationale_dict(du70)\n",
    "llconc70_Clist = correct_rationale_dict(llconc70)\n",
    "mulAr70_Clist = correct_rationale_dict(mulAr70)\n",
    "seq70_Clist = correct_rationale_dict(seq70)\n",
    "strat70_Clist = correct_rationale_dict(strat70)\n",
    "#svamp70_Clist = correct_rationale_dict(svamp70)\n",
    "tso70_Clist = correct_rationale_dict(tso70)\n",
    "\n",
    "# modifying lists \n",
    "\n",
    "helper(addsub70_Clist)\n",
    "helper(coin70_Clist)\n",
    "helper(du70_Clist)\n",
    "helper(llconc70_Clist)\n",
    "helper(mulAr70_Clist)\n",
    "helper(seq70_Clist)\n",
    "helper(strat70_Clist)\n",
    "#helper(svamp70_Clist)\n",
    "helper(tso70_Clist)"
   ]
  },
  {
   "cell_type": "markdown",
   "id": "4c8dcf3e",
   "metadata": {},
   "source": [
    "### Running code modules "
   ]
  },
  {
   "cell_type": "code",
   "execution_count": 15,
   "id": "f0103de8",
   "metadata": {},
   "outputs": [],
   "source": [
    "final_result = dict()\n",
    "# the following will take much more time while calculating BERT. "
   ]
  },
  {
   "cell_type": "code",
   "execution_count": 16,
   "id": "ee77ac47",
   "metadata": {},
   "outputs": [
    {
     "name": "stdout",
     "output_type": "stream",
     "text": [
      "start\n",
      "0\n",
      "50\n",
      "100\n",
      "150\n",
      "200\n",
      "250\n",
      "Elapsed time: 6.13 seconds\n"
     ]
    }
   ],
   "source": [
    "start_time = time.time()\n",
    "\n",
    "res_score = []\n",
    "results(addsub70_Clist, res_score)\n",
    "final_result['AddSub'] = res_score\n",
    "\n",
    "end_time = time.time()\n",
    "elapsed_time = end_time - start_time\n",
    "print(f\"Elapsed time: {elapsed_time:.2f} seconds\")"
   ]
  },
  {
   "cell_type": "code",
   "execution_count": 17,
   "id": "2bcade3a",
   "metadata": {},
   "outputs": [
    {
     "name": "stdout",
     "output_type": "stream",
     "text": [
      "start\n",
      "0\n",
      "50\n",
      "100\n",
      "150\n",
      "200\n",
      "250\n",
      "300\n",
      "Elapsed time: 9.54 seconds\n"
     ]
    }
   ],
   "source": [
    "start_time = time.time()\n",
    "\n",
    "res_score = []\n",
    "results(coin70_Clist, res_score)\n",
    "final_result['coin_flip'] = res_score\n",
    "\n",
    "end_time = time.time()\n",
    "elapsed_time = end_time - start_time\n",
    "print(f\"Elapsed time: {elapsed_time:.2f} seconds\")"
   ]
  },
  {
   "cell_type": "code",
   "execution_count": 18,
   "id": "a6697870",
   "metadata": {},
   "outputs": [
    {
     "name": "stdout",
     "output_type": "stream",
     "text": [
      "start\n",
      "0\n",
      "50\n",
      "100\n",
      "150\n",
      "200\n",
      "250\n",
      "Elapsed time: 15.76 seconds\n"
     ]
    }
   ],
   "source": [
    "start_time = time.time()\n",
    "\n",
    "res_score = []\n",
    "results(du70_Clist, res_score)\n",
    "final_result['date_understanding'] = res_score\n",
    "\n",
    "end_time = time.time()\n",
    "elapsed_time = end_time - start_time\n",
    "print(f\"Elapsed time: {elapsed_time:.2f} seconds\")"
   ]
  },
  {
   "cell_type": "code",
   "execution_count": 19,
   "id": "399685cf",
   "metadata": {},
   "outputs": [
    {
     "name": "stdout",
     "output_type": "stream",
     "text": [
      "start\n",
      "0\n",
      "50\n",
      "100\n",
      "150\n",
      "200\n",
      "250\n",
      "300\n",
      "Elapsed time: 3.88 seconds\n"
     ]
    }
   ],
   "source": [
    "start_time = time.time()\n",
    "\n",
    "res_score = []\n",
    "results(llconc70_Clist, res_score)\n",
    "final_result['Last_letter_concetenation'] = res_score\n",
    "\n",
    "end_time = time.time()\n",
    "elapsed_time = end_time - start_time\n",
    "print(f\"Elapsed time: {elapsed_time:.2f} seconds\")"
   ]
  },
  {
   "cell_type": "code",
   "execution_count": 20,
   "id": "86e8bc25",
   "metadata": {},
   "outputs": [
    {
     "name": "stdout",
     "output_type": "stream",
     "text": [
      "start\n",
      "0\n",
      "50\n",
      "100\n",
      "150\n",
      "200\n",
      "250\n",
      "300\n",
      "350\n",
      "Elapsed time: 2.41 seconds\n"
     ]
    }
   ],
   "source": [
    "start_time = time.time()\n",
    "\n",
    "res_score = []\n",
    "results(seq70_Clist, res_score)\n",
    "final_result['Single Eq'] = res_score\n",
    "\n",
    "end_time = time.time()\n",
    "elapsed_time = end_time - start_time\n",
    "print(f\"Elapsed time: {elapsed_time:.2f} seconds\")"
   ]
  },
  {
   "cell_type": "code",
   "execution_count": 21,
   "id": "29d74758",
   "metadata": {},
   "outputs": [
    {
     "name": "stdout",
     "output_type": "stream",
     "text": [
      "start\n",
      "0\n",
      "50\n",
      "100\n",
      "150\n",
      "200\n",
      "250\n",
      "300\n",
      "350\n",
      "400\n",
      "450\n",
      "500\n",
      "550\n",
      "600\n",
      "650\n",
      "700\n",
      "750\n",
      "800\n",
      "850\n",
      "900\n",
      "950\n",
      "1000\n",
      "1050\n",
      "1100\n",
      "1150\n",
      "1200\n",
      "1250\n",
      "1300\n",
      "1350\n",
      "1400\n",
      "1450\n",
      "1500\n",
      "1550\n",
      "1600\n",
      "Elapsed time: 0.29 seconds\n"
     ]
    }
   ],
   "source": [
    "start_time = time.time()\n",
    "\n",
    "res_score = []\n",
    "results(strat70_Clist, res_score)\n",
    "final_result['Strategy QA'] = res_score\n",
    "\n",
    "end_time = time.time()\n",
    "elapsed_time = end_time - start_time\n",
    "print(f\"Elapsed time: {elapsed_time:.2f} seconds\")"
   ]
  },
  {
   "cell_type": "code",
   "execution_count": 22,
   "id": "47d2a821",
   "metadata": {},
   "outputs": [
    {
     "name": "stdout",
     "output_type": "stream",
     "text": [
      "start\n",
      "0\n",
      "50\n",
      "100\n",
      "150\n",
      "200\n",
      "250\n",
      "300\n",
      "350\n",
      "400\n",
      "450\n",
      "500\n",
      "Elapsed time: 14.41 seconds\n"
     ]
    }
   ],
   "source": [
    "start_time = time.time()\n",
    "\n",
    "res_score = []\n",
    "results(tso70_Clist, res_score)\n",
    "final_result['Tracking_shuffled_objects'] = res_score\n",
    "\n",
    "end_time = time.time()\n",
    "elapsed_time = end_time - start_time\n",
    "print(f\"Elapsed time: {elapsed_time:.2f} seconds\")"
   ]
  },
  {
   "cell_type": "code",
   "execution_count": 23,
   "id": "59de07e4",
   "metadata": {},
   "outputs": [
    {
     "name": "stdout",
     "output_type": "stream",
     "text": [
      "start\n",
      "0\n",
      "50\n",
      "100\n",
      "150\n",
      "200\n",
      "250\n",
      "300\n",
      "350\n",
      "400\n",
      "450\n",
      "500\n",
      "550\n",
      "600\n",
      "650\n",
      "700\n",
      "750\n",
      "800\n",
      "850\n",
      "900\n",
      "950\n",
      "1000\n",
      "1050\n",
      "1100\n",
      "1150\n",
      "1200\n",
      "1250\n",
      "1300\n",
      "1350\n",
      "1400\n",
      "1450\n",
      "1500\n",
      "1550\n",
      "1600\n",
      "Elapsed time: 0.29 seconds\n"
     ]
    }
   ],
   "source": [
    "start_time = time.time()\n",
    "\n",
    "res_score = []\n",
    "results(strat70_Clist, res_score)\n",
    "final_result['Strategy QA'] = res_score\n",
    "\n",
    "end_time = time.time()\n",
    "elapsed_time = end_time - start_time\n",
    "print(f\"Elapsed time: {elapsed_time:.2f} seconds\")"
   ]
  },
  {
   "cell_type": "code",
   "execution_count": 24,
   "id": "6565cbe7",
   "metadata": {
    "scrolled": true
   },
   "outputs": [],
   "source": [
    "final_result['MultiArith'] = []\n",
    "final_result['SVAMP'] = []"
   ]
  },
  {
   "cell_type": "code",
   "execution_count": 28,
   "id": "745b6e0b",
   "metadata": {},
   "outputs": [],
   "source": [
    "# converting to tables \n",
    "\n",
    "addsub70_Ctable = tabularForm(final_result['AddSub'])\n",
    "coin70_Ctable = tabularForm(final_result['coin_flip'])\n",
    "du70_Ctable = tabularForm(final_result['date_understanding'])\n",
    "llconc70_Ctable = tabularForm(final_result['Last_letter_concetenation'])\n",
    "# mulAr70_Ctable = tabularForm(final_result['MultiArith'])\n",
    "seq70_Ctable = tabularForm(final_result['Single Eq'])\n",
    "strat70_Ctable = tabularForm(final_result['Strategy QA'])\n",
    "# svamp70_Ctable = tabularForm(final_result['SVAMP'])\n",
    "tso70_Ctable = tabularForm(final_result['Tracking_shuffled_objects'])"
   ]
  },
  {
   "cell_type": "code",
   "execution_count": 30,
   "id": "9d04e7ec",
   "metadata": {},
   "outputs": [
    {
     "data": {
      "text/html": [
       "<div>\n",
       "<style scoped>\n",
       "    .dataframe tbody tr th:only-of-type {\n",
       "        vertical-align: middle;\n",
       "    }\n",
       "\n",
       "    .dataframe tbody tr th {\n",
       "        vertical-align: top;\n",
       "    }\n",
       "\n",
       "    .dataframe thead th {\n",
       "        text-align: right;\n",
       "    }\n",
       "</style>\n",
       "<table border=\"1\" class=\"dataframe\">\n",
       "  <thead>\n",
       "    <tr style=\"text-align: right;\">\n",
       "      <th></th>\n",
       "      <th>sample_index</th>\n",
       "      <th>c1</th>\n",
       "      <th>c2</th>\n",
       "      <th>rouge_score</th>\n",
       "      <th>ROUGE1</th>\n",
       "      <th>ROUGE-L</th>\n",
       "      <th>ROUGE2</th>\n",
       "      <th>BERT</th>\n",
       "    </tr>\n",
       "  </thead>\n",
       "  <tbody>\n",
       "    <tr>\n",
       "      <th>0</th>\n",
       "      <td>0</td>\n",
       "      <td>0</td>\n",
       "      <td>1</td>\n",
       "      <td>{'rouge1': (0.8620689655172413, 0.877192982456...</td>\n",
       "      <td>0.869565</td>\n",
       "      <td>0.869565</td>\n",
       "      <td>0.707965</td>\n",
       "      <td>0</td>\n",
       "    </tr>\n",
       "    <tr>\n",
       "      <th>1</th>\n",
       "      <td>0</td>\n",
       "      <td>0</td>\n",
       "      <td>2</td>\n",
       "      <td>{'rouge1': (0.8620689655172413, 0.877192982456...</td>\n",
       "      <td>0.869565</td>\n",
       "      <td>0.869565</td>\n",
       "      <td>0.707965</td>\n",
       "      <td>0</td>\n",
       "    </tr>\n",
       "    <tr>\n",
       "      <th>2</th>\n",
       "      <td>0</td>\n",
       "      <td>0</td>\n",
       "      <td>3</td>\n",
       "      <td>{'rouge1': (0.9298245614035088, 0.929824561403...</td>\n",
       "      <td>0.929825</td>\n",
       "      <td>0.929825</td>\n",
       "      <td>0.875000</td>\n",
       "      <td>0</td>\n",
       "    </tr>\n",
       "    <tr>\n",
       "      <th>3</th>\n",
       "      <td>0</td>\n",
       "      <td>0</td>\n",
       "      <td>4</td>\n",
       "      <td>{'rouge1': (0.6818181818181818, 0.789473684210...</td>\n",
       "      <td>0.731707</td>\n",
       "      <td>0.682927</td>\n",
       "      <td>0.595041</td>\n",
       "      <td>0</td>\n",
       "    </tr>\n",
       "    <tr>\n",
       "      <th>4</th>\n",
       "      <td>0</td>\n",
       "      <td>0</td>\n",
       "      <td>5</td>\n",
       "      <td>{'rouge1': (0.7931034482758621, 0.807017543859...</td>\n",
       "      <td>0.800000</td>\n",
       "      <td>0.765217</td>\n",
       "      <td>0.637168</td>\n",
       "      <td>0</td>\n",
       "    </tr>\n",
       "  </tbody>\n",
       "</table>\n",
       "</div>"
      ],
      "text/plain": [
       "   sample_index  c1  c2                                        rouge_score  \\\n",
       "0             0   0   1  {'rouge1': (0.8620689655172413, 0.877192982456...   \n",
       "1             0   0   2  {'rouge1': (0.8620689655172413, 0.877192982456...   \n",
       "2             0   0   3  {'rouge1': (0.9298245614035088, 0.929824561403...   \n",
       "3             0   0   4  {'rouge1': (0.6818181818181818, 0.789473684210...   \n",
       "4             0   0   5  {'rouge1': (0.7931034482758621, 0.807017543859...   \n",
       "\n",
       "     ROUGE1   ROUGE-L    ROUGE2  BERT  \n",
       "0  0.869565  0.869565  0.707965     0  \n",
       "1  0.869565  0.869565  0.707965     0  \n",
       "2  0.929825  0.929825  0.875000     0  \n",
       "3  0.731707  0.682927  0.595041     0  \n",
       "4  0.800000  0.765217  0.637168     0  "
      ]
     },
     "execution_count": 30,
     "metadata": {},
     "output_type": "execute_result"
    }
   ],
   "source": [
    "coin70_Ctable.head()"
   ]
  },
  {
   "cell_type": "code",
   "execution_count": 34,
   "id": "a048c35a",
   "metadata": {},
   "outputs": [
    {
     "data": {
      "image/png": "[encoded data removed]",
      "text/plain": [
       "<Figure size 1500x500 with 3 Axes>"
      ]
     },
     "metadata": {},
     "output_type": "display_data"
    }
   ],
   "source": [
    "boxPlot(addsub70_Ctable, \"pink\")"
   ]
  },
  {
   "cell_type": "code",
   "execution_count": 41,
   "id": "10539bd7",
   "metadata": {},
   "outputs": [
    {
     "data": {
      "text/plain": [
       "'Min: 0.08, Max: 1.00, Median: 0.61, Q1: 0.50, Q3: 0.73'"
      ]
     },
     "execution_count": 41,
     "metadata": {},
     "output_type": "execute_result"
    }
   ],
   "source": [
    "format_statistics(addsub70_Ctable['ROUGE1'])"
   ]
  },
  {
   "cell_type": "code",
   "execution_count": 42,
   "id": "81105487",
   "metadata": {},
   "outputs": [
    {
     "data": {
      "text/plain": [
       "'Min: 0.00, Max: 1.00, Median: 0.42, Q1: 0.29, Q3: 0.57'"
      ]
     },
     "execution_count": 42,
     "metadata": {},
     "output_type": "execute_result"
    }
   ],
   "source": [
    "format_statistics(addsub70_Ctable['ROUGE2'])"
   ]
  },
  {
   "cell_type": "code",
   "execution_count": 40,
   "id": "67b9b3c1",
   "metadata": {},
   "outputs": [
    {
     "data": {
      "text/plain": [
       "'Min: 0.08, Max: 1.00, Median: 0.53, Q1: 0.41, Q3: 0.68'"
      ]
     },
     "execution_count": 40,
     "metadata": {},
     "output_type": "execute_result"
    }
   ],
   "source": [
    "format_statistics(addsub70_Ctable['ROUGE-L'])"
   ]
  },
  {
   "cell_type": "code",
   "execution_count": null,
   "id": "c15a19a5",
   "metadata": {},
   "outputs": [],
   "source": []
  }
 ],
 "metadata": {
  "kernelspec": {
   "display_name": "Python 3 (ipykernel)",
   "language": "python",
   "name": "python3"
  },
  "language_info": {
   "codemirror_mode": {
    "name": "ipython",
    "version": 3
   },
   "file_extension": ".py",
   "mimetype": "text/x-python",
   "name": "python",
   "nbconvert_exporter": "python",
   "pygments_lexer": "ipython3",
   "version": "3.9.12"
  }
 },
 "nbformat": 4,
 "nbformat_minor": 5
}
