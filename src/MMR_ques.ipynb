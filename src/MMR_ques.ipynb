{
 "cells": [
  {
   "cell_type": "markdown",
   "id": "a7e95c1a",
   "metadata": {},
   "source": [
    "# MMR calculation on teacher completions "
   ]
  },
  {
   "cell_type": "code",
   "execution_count": 1,
   "id": "fe9032c1",
   "metadata": {},
   "outputs": [],
   "source": [
    "import nltk \n",
    "import json \n",
    "import pandas as pd\n",
    "import numpy as np\n",
    "from rouge_score import rouge_scorer\n",
    "import torch\n",
    "\n",
    "from transformers import AutoTokenizer, AutoModelForSequenceClassification, BertTokenizer, BertModel\n",
    "from transformers import BertTokenizer, BertModel\n",
    "\n",
    "import copy \n",
    "\n",
    "import time\n",
    "from tqdm import tqdm"
   ]
  },
  {
   "cell_type": "markdown",
   "id": "ff7ed7e5",
   "metadata": {},
   "source": [
    "### Similarity Metrics"
   ]
  },
  {
   "cell_type": "code",
   "execution_count": 2,
   "id": "3f39d9ee",
   "metadata": {},
   "outputs": [],
   "source": [
    "def calculate_rougeL(text1, text2):\n",
    "    scorer = rouge_scorer.RougeScorer(['rougeL'], use_stemmer=True)\n",
    "    scores = scorer.score(text1, text2)\n",
    "    return scores\n",
    "\n",
    "def calculate_rouge2(text1, text2):\n",
    "    scorer = rouge_scorer.RougeScorer(['rouge2'], use_stemmer=True)\n",
    "    scores = scorer.score(text1, text2)\n",
    "    return scores"
   ]
  },
  {
   "cell_type": "code",
   "execution_count": 3,
   "id": "0dcb24e7",
   "metadata": {},
   "outputs": [],
   "source": [
    "def calculate_bertscore(text1, text2, tokenizer, model):\n",
    "    inputs = tokenizer([text1, text2], return_tensors='pt', padding=True, truncation=True)\n",
    "    with torch.no_grad():\n",
    "        outputs = model(**inputs)\n",
    "    \n",
    "    embeddings = outputs.last_hidden_state\n",
    "    # Calculate cosine similarity between the embeddings of text1 and text2\n",
    "    similarity = torch.nn.functional.cosine_similarity(embeddings[0], embeddings[1], dim=0).mean().item()\n",
    "    return similarity"
   ]
  },
  {
   "cell_type": "code",
   "execution_count": 4,
   "id": "71880553",
   "metadata": {},
   "outputs": [],
   "source": [
    "def read_json(file_path):\n",
    "    with open(file_path, 'r') as file:\n",
    "        data = json.load(file)\n",
    "        return data  "
   ]
  },
  {
   "cell_type": "markdown",
   "id": "2e1e7163",
   "metadata": {},
   "source": [
    "### Format of teacher rationales "
   ]
  },
  {
   "cell_type": "markdown",
   "id": "45a293e6",
   "metadata": {},
   "source": [
    "{\n",
    "    sample_index : int,\n",
    "    question : \"str\",\n",
    "    rationale_list : [\n",
    "                        [ completion_index, rationale\n",
    "                        ]\n",
    "                     ]\n",
    "}"
   ]
  },
  {
   "cell_type": "code",
   "execution_count": 5,
   "id": "6d5e0b32",
   "metadata": {},
   "outputs": [],
   "source": [
    "# following function makes a list of list containing all the rationales with multiple reasonings\n",
    "\n",
    "def correct_rationale_dict(ds_dict):\n",
    "    correct_list = []\n",
    "    ds_data = ds_dict['data']\n",
    "    for key in ds_data.keys():\n",
    "        if len(ds_data[key]) > 1 :\n",
    "            l = []\n",
    "            for i in ds_data[key]:\n",
    "                # this is within the list corresponding to each index in data dictionary\n",
    "                # i is a dictionary \n",
    "                if i['answer'] in i['completion']:\n",
    "                    l.append(i)\n",
    "            correct_list.append(l)\n",
    "    return correct_list\n",
    "\n",
    "def formatTeacherDataset(ds_list):\n",
    "    for i in range(len(ds_list)):\n",
    "        if len(ds_list[i]) == 0:\n",
    "            continue\n",
    "        d1 = dict()\n",
    "        d1['sample_index'] = ds_list[i][0]['sample_index']\n",
    "        d1['question'] = ds_list[i][0]['question']\n",
    "        d1['rationale_list'] = list()\n",
    "        for j in range(len(ds_list[i])):\n",
    "            ci = ds_list[i][j]['completion_index']\n",
    "            rationale = ds_list[i][j]['reasoning_completion']\n",
    "            l = list()\n",
    "            l.append(ci)\n",
    "            l.append(rationale)\n",
    "            d1['rationale_list'].append(l)\n",
    "        ds_list[i] = d1"
   ]
  },
  {
   "cell_type": "code",
   "execution_count": null,
   "id": "96faceb2",
   "metadata": {},
   "outputs": [],
   "source": []
  },
  {
   "cell_type": "code",
   "execution_count": 6,
   "id": "42067603",
   "metadata": {},
   "outputs": [],
   "source": [
    "# make this code usable for all metrics (rouge2, rougeL, bert)\n",
    "\n",
    "def mmr(question, rationale_list, lambda_const, metrics):\n",
    "    ranking_set = []\n",
    "    \n",
    "    if( metrics == 'bert'):\n",
    "        bert_tokenizer = BertTokenizer.from_pretrained('bert-base-uncased')\n",
    "        bert_model = BertModel.from_pretrained('bert-base-uncased') \n",
    "    \n",
    "    while len(rationale_list) > 0:\n",
    "        score = 0\n",
    "        list_to_add = None\n",
    "        score_to_add = 0\n",
    "        \n",
    "        for i in rationale_list:\n",
    "            if( metrics == 'bert'):\n",
    "                first_part = calculate_bertscore(question, i[1], bert_tokenizer, bert_model)\n",
    "            elif (metrics == 'rougeL'):\n",
    "                first_part = calculate_rougeL(question, i[1])\n",
    "                first_part = first_part['rougeL'].fmeasure\n",
    "            elif (metrics == 'rouge2'):\n",
    "                first_part = calculate_rouge2(question, i[1])\n",
    "                first_part = first_part['rouge2'].fmeasure\n",
    "            else:\n",
    "                print(\"Incorrect metric selection\")\n",
    "                break\n",
    "            second_part = 0\n",
    "            \n",
    "            for j in ranking_set:\n",
    "                if( metrics == 'bert'):\n",
    "                    sim = calculate_bertscore(j[1], i[1], bert_tokenizer, bert_model)\n",
    "                elif (metrics == 'rougeL'):\n",
    "                    sim = calculate_rougeL(j[1], i[1])\n",
    "                    sim = sim['rougeL'].fmeasure\n",
    "                elif (metrics == 'rouge2'):\n",
    "                    sim = calculate_rouge2(j[1], i[1])\n",
    "                    sim = sim['rouge2'].fmeasure\n",
    "                else:\n",
    "                    print(\"Incorrect metric selection\")\n",
    "                    break\n",
    "                    \n",
    "                if sim > second_part:\n",
    "                    second_part = sim\n",
    "                    \n",
    "            equation_score = lambda_const*(first_part)-(1-lambda_const) * second_part\n",
    "            if equation_score > score:\n",
    "                score = equation_score\n",
    "                list_to_add = i\n",
    "                score_to_add = first_part\n",
    "                \n",
    "            \n",
    "        if list_to_add is not None:\n",
    "            # print(f\"Removing rationale: {rationale_to_add}\")\n",
    "            rationale_list.remove(list_to_add)\n",
    "            list_to_add.append(score_to_add)\n",
    "            ranking_set.append(list_to_add)\n",
    "        else:\n",
    "            # print(\"No rationale to add found.\")\n",
    "            break\n",
    "        \n",
    "    return ranking_set\n",
    "\n",
    "        "
   ]
  },
  {
   "cell_type": "code",
   "execution_count": 7,
   "id": "650deb11",
   "metadata": {},
   "outputs": [],
   "source": [
    "def MMRcaculation(data_list, lambda_const, metrics):\n",
    "    mmr_list = []\n",
    "    for i in range(len(data_list)):\n",
    "        if len(data_list[i]) == 0:\n",
    "            continue\n",
    "        \n",
    "        rat = copy.deepcopy(data_list[i]['rationale_list'])       \n",
    "        s = dict()\n",
    "        s['sample_index'] = data_list[i]['sample_index']\n",
    "        s['question'] = data_list[i]['question']\n",
    "        s['ranking'] = mmr(data_list[i]['question'], rat, lambda_const, metrics)\n",
    "        mmr_list.append(s)\n",
    "    return mmr_list"
   ]
  },
  {
   "cell_type": "code",
   "execution_count": 8,
   "id": "dab5b963",
   "metadata": {},
   "outputs": [],
   "source": [
    "def makeJSON(data_list, file_name):\n",
    "    with open(file_name, 'w') as json_file:\n",
    "        json.dump(data_list, json_file, indent=4)\n",
    "    print(f\"Data has been written to {file_name}\")"
   ]
  },
  {
   "cell_type": "code",
   "execution_count": 9,
   "id": "6447f3dd",
   "metadata": {},
   "outputs": [],
   "source": [
    "addsub70_path = '/Users/shiprasingh/IIT KGP internship /reasoning-teacher/saved/teacher_completion_data/B_text-davinci-002__C_zs_cot_t70/D_addsub.json'\n",
    "coin70_path = '/Users/shiprasingh/IIT KGP internship /reasoning-teacher/saved/teacher_completion_data/B_text-davinci-002__C_zs_cot_t70/D_coin_flip.json'\n",
    "du70_path = '/Users/shiprasingh/IIT KGP internship /reasoning-teacher/saved/teacher_completion_data/B_text-davinci-002__C_zs_cot_t70/D_date_understanding.json'\n",
    "llconc70_path = '/Users/shiprasingh/IIT KGP internship /reasoning-teacher/saved/teacher_completion_data/B_text-davinci-002__C_zs_cot_t70/D_last_letter_concatenation.json'\n",
    "mulAr70_path = '/Users/shiprasingh/IIT KGP internship /reasoning-teacher/saved/teacher_completion_data/B_text-davinci-002__C_zs_cot_t70/D_multiarith.json'\n",
    "seq70_path = '/Users/shiprasingh/IIT KGP internship /reasoning-teacher/saved/teacher_completion_data/B_text-davinci-002__C_zs_cot_t70/D_single_eq.json'\n",
    "strat70_path = '/Users/shiprasingh/IIT KGP internship /reasoning-teacher/saved/teacher_completion_data/B_text-davinci-002__C_zs_cot_t70/D_strategy_qa.json'\n",
    "svamp70_path = '/Users/shiprasingh/IIT KGP internship /reasoning-teacher/saved/teacher_completion_data/B_text-davinci-002__C_zs_cot_t70/D_svamp.json'\n",
    "tso70_path = '/Users/shiprasingh/IIT KGP internship /reasoning-teacher/saved/teacher_completion_data/B_text-davinci-002__C_zs_cot_t70/D_tracking_shuffled_objects.json'\n",
    "\n",
    "# Reading JSON data. The read_json() function returns a dictionary\n",
    "addsub70 = read_json(addsub70_path)\n",
    "coin70 = read_json(coin70_path)\n",
    "du70 = read_json(du70_path)\n",
    "llconc70 = read_json(llconc70_path)\n",
    "mulAr70 = read_json(mulAr70_path)\n",
    "seq70 = read_json(seq70_path)\n",
    "strat70 = read_json(strat70_path)\n",
    "svamp70 = read_json(svamp70_path)\n",
    "tso70 = read_json(tso70_path)\n",
    "\n",
    "# making rationale dictionaries with CORRECT rationales\n",
    "\n",
    "addsub70_Clist = correct_rationale_dict(addsub70)\n",
    "coin70_Clist = correct_rationale_dict(coin70)\n",
    "du70_Clist = correct_rationale_dict(du70)\n",
    "llconc70_Clist = correct_rationale_dict(llconc70)\n",
    "mulAr70_Clist = correct_rationale_dict(mulAr70)\n",
    "seq70_Clist = correct_rationale_dict(seq70)\n",
    "strat70_Clist = correct_rationale_dict(strat70)\n",
    "#svamp70_Clist = correct_rationale_dict(svamp70)\n",
    "tso70_Clist = correct_rationale_dict(tso70)\n",
    "\n",
    "\n",
    "formatTeacherDataset(addsub70_Clist)\n",
    "formatTeacherDataset(coin70_Clist)\n",
    "formatTeacherDataset(du70_Clist)\n",
    "formatTeacherDataset(llconc70_Clist)\n",
    "formatTeacherDataset(mulAr70_Clist)\n",
    "formatTeacherDataset(seq70_Clist)\n",
    "formatTeacherDataset(strat70_Clist)\n",
    "#formatTeacherDataset(svamp70_Clist)\n",
    "formatTeacherDataset(tso70_Clist)"
   ]
  },
  {
   "cell_type": "code",
   "execution_count": 10,
   "id": "8fe9c133",
   "metadata": {},
   "outputs": [
    {
     "name": "stdout",
     "output_type": "stream",
     "text": [
      "{'sample_index': 1, 'question': 'There were 28 bales of hay in the barn . Tim stacked bales in the barn today . There are now 54 bales of hay in the barn . How many bales did he store in the barn ?', 'rationale_list': [[0, ' \\n\\nThere were 28 bales of hay in the barn.\\nTim stacked bales in the barn today.\\n\\nThis means that there must have been more bales of hay brought into the barn, because the number of bales increased from 28 to 54. So, Tim must have stored 26 bales of hay in the barn today.'], [1, ' \\nWe know that there were 28 bales of hay in the barn. \\nWe know that Tim stacked bales in the barn today. \\nWe know that there are now 54 bales of hay in the barn. \\nSo, how many bales did Tim store in the barn? \\n\\nWe can solve this problem by using basic algebra. \\n\\nFirst, we need to create a variable to represent the number of bales that Tim stored in the barn. We will use the letter \"x\" to represent this variable. \\n\\nNext, we need to create an equation that represents the information'], [2, ' \\nThere were 28 bales of hay in the barn. This is our starting point. \\nTim stacked bales in the barn today. This means he added some bales to the barn today. \\nThere are now 54 bales of hay in the barn. This means the total number of bales in the barn is 54. \\nWe want to know how many bales did he store in the barn, which is how many bales he added. \\nWe can find this by subtracting the starting point from the total. \\n54-28=26 \\nThis means he added 26 bales'], [3, ' \\nThere were 28 bales of hay in the barn. \\nTim stacked bales in the barn today. \\nThere are now 54 bales of hay in the barn. \\nHow many bales did he store in the barn?\\nHe must have stored 26 bales.'], [4, ' \\n\\nThere were 28 bales of hay in the barn. \\n\\nThis is our starting point, and we are told that Tim stacked bales in the barn today. \\n\\nThis means that the number of bales of hay in the barn increased. \\n\\nWe are told that there are now 54 bales of hay in the barn. \\n\\nThis means that the final number of bales of hay in the barn is 54. \\n\\nTo find out how many bales Tim stacked in the barn, we need to find the difference between the starting point (28 bales of hay) and'], [5, ' \\n\\nThere were 28 bales of hay in the barn.\\nTim stacked bales in the barn today.\\n\\nThat means he added bales to the barn. So we can say that the number of bales in the barn increased. \\n\\nThere are now 54 bales of hay in the barn.\\n\\nWe can say that the number of bales in the barn is now 54. \\n\\nSo how many bales did he store in the barn?\\n\\nHe stored 26 bales in the barn.'], [6, \" \\nThere were 28 bales of hay in the barn. \\nThis means that before Tim did anything, there were 28 bales of hay in the barn. \\nTim stacked bales in the barn today. \\nThis means that at some point today, Tim came and did something with the bales of hay. We don't know what he did, but we know that when he was done, there were more bales of hay in the barn then there were before. \\nThere are now 54 bales of hay in the barn. \\nThis means that after Tim did something with the bales of hay\"], [7, ' \\nThere were 28 bales of hay in the barn. \\nTim stacked bales in the barn today. \\nThis means that he added some bales to the barn today. \\nNow, there are 54 bales in the barn. \\nWe can find out how many bales he added by subtracting the original number of bales from the new number of bales. \\n54-28=26 \\nThis means that Tim added 26 bales of hay to the barn today.']]}\n"
     ]
    }
   ],
   "source": [
    "print(addsub70_Clist[0])"
   ]
  },
  {
   "cell_type": "markdown",
   "id": "d10973bc",
   "metadata": {},
   "source": [
    "### Calculating MMR rankings "
   ]
  },
  {
   "cell_type": "code",
   "execution_count": 11,
   "id": "d0399d54",
   "metadata": {},
   "outputs": [
    {
     "name": "stdout",
     "output_type": "stream",
     "text": [
      "Elapsed time: 1176.74 seconds\n"
     ]
    }
   ],
   "source": [
    "start_time = time.time()\n",
    "s_addsub = MMRcaculation(addsub70_Clist, 0.50, 'bert')\n",
    "end_time = time.time()\n",
    "elapsed_time = end_time - start_time\n",
    "print(f\"Elapsed time: {elapsed_time:.2f} seconds\")"
   ]
  },
  {
   "cell_type": "code",
   "execution_count": 12,
   "id": "6b8d4b31",
   "metadata": {
    "scrolled": true
   },
   "outputs": [
    {
     "name": "stdout",
     "output_type": "stream",
     "text": [
      "Data has been written to addsub_mmr_q_bert_L0.50.json\n"
     ]
    }
   ],
   "source": [
    "makeJSON(s_addsub, \"addsub_mmr_q_bert_L0.50.json\")"
   ]
  },
  {
   "cell_type": "code",
   "execution_count": 13,
   "id": "a33a617a",
   "metadata": {},
   "outputs": [
    {
     "name": "stdout",
     "output_type": "stream",
     "text": [
      "Elapsed time: 2425.02 seconds\n"
     ]
    }
   ],
   "source": [
    "start_time = time.time()\n",
    "s_coin = MMRcaculation(coin70_Clist, 0.50, 'bert')\n",
    "end_time = time.time()\n",
    "elapsed_time = end_time - start_time\n",
    "print(f\"Elapsed time: {elapsed_time:.2f} seconds\")"
   ]
  },
  {
   "cell_type": "code",
   "execution_count": 14,
   "id": "5701b72f",
   "metadata": {},
   "outputs": [
    {
     "name": "stdout",
     "output_type": "stream",
     "text": [
      "Data has been written to coin_flip_mmr_q_bert_L0.50.json\n"
     ]
    }
   ],
   "source": [
    "makeJSON(s_coin, \"coin_flip_mmr_q_bert_L0.50.json\")"
   ]
  },
  {
   "cell_type": "code",
   "execution_count": 15,
   "id": "df9dbf00",
   "metadata": {},
   "outputs": [
    {
     "name": "stdout",
     "output_type": "stream",
     "text": [
      "Elapsed time: 2045.22 seconds\n"
     ]
    }
   ],
   "source": [
    "start_time = time.time()\n",
    "s_du = MMRcaculation(du70_Clist, 0.50, 'bert')\n",
    "end_time = time.time()\n",
    "elapsed_time = end_time - start_time\n",
    "print(f\"Elapsed time: {elapsed_time:.2f} seconds\")"
   ]
  },
  {
   "cell_type": "code",
   "execution_count": 16,
   "id": "1b75d8af",
   "metadata": {},
   "outputs": [
    {
     "name": "stdout",
     "output_type": "stream",
     "text": [
      "Data has been written to date_understanding_mmr_q_bert_L0.50.json\n"
     ]
    }
   ],
   "source": [
    "makeJSON(s_du, \"date_understanding_mmr_q_bert_L0.50.json\")"
   ]
  },
  {
   "cell_type": "code",
   "execution_count": 17,
   "id": "5eea57a8",
   "metadata": {
    "scrolled": true
   },
   "outputs": [
    {
     "name": "stdout",
     "output_type": "stream",
     "text": [
      "Elapsed time: 1620.38 seconds\n"
     ]
    }
   ],
   "source": [
    "start_time = time.time()\n",
    "s_llconc = MMRcaculation(llconc70_Clist, 0.50, 'bert')\n",
    "end_time = time.time()\n",
    "elapsed_time = end_time - start_time\n",
    "print(f\"Elapsed time: {elapsed_time:.2f} seconds\")"
   ]
  },
  {
   "cell_type": "code",
   "execution_count": 18,
   "id": "838e7b83",
   "metadata": {},
   "outputs": [
    {
     "name": "stdout",
     "output_type": "stream",
     "text": [
      "Data has been written to Last_Letter_Concatenation_mmr_q_bert_L0.50.json\n"
     ]
    }
   ],
   "source": [
    "makeJSON(s_llconc, \"Last_Letter_Concatenation_mmr_q_bert_L0.50.json\")"
   ]
  },
  {
   "cell_type": "code",
   "execution_count": 19,
   "id": "b180204f",
   "metadata": {},
   "outputs": [
    {
     "data": {
      "text/plain": [
       "'\\nstart_time = time.time()\\ns_mulAr = MMRcaculation(mulAr70_Clist)\\nend_time = time.time()\\nelapsed_time = end_time - start_time\\nprint(f\"Elapsed time: {elapsed_time:.2f} seconds\")\\n\\nmakeJSON(s_mulAr, \"MultiArith_mmr_q_bert.json\")\\n'"
      ]
     },
     "execution_count": 19,
     "metadata": {},
     "output_type": "execute_result"
    }
   ],
   "source": [
    "\"\"\"\n",
    "start_time = time.time()\n",
    "s_mulAr = MMRcaculation(mulAr70_Clist)\n",
    "end_time = time.time()\n",
    "elapsed_time = end_time - start_time\n",
    "print(f\"Elapsed time: {elapsed_time:.2f} seconds\")\n",
    "\n",
    "makeJSON(s_mulAr, \"MultiArith_mmr_q_bert.json\")\n",
    "\"\"\""
   ]
  },
  {
   "cell_type": "code",
   "execution_count": 20,
   "id": "c7bcb744",
   "metadata": {},
   "outputs": [
    {
     "name": "stdout",
     "output_type": "stream",
     "text": [
      "Elapsed time: 972.21 seconds\n"
     ]
    }
   ],
   "source": [
    "start_time = time.time()\n",
    "s_seq = MMRcaculation(seq70_Clist, 0.50, 'bert')\n",
    "end_time = time.time()\n",
    "elapsed_time = end_time - start_time\n",
    "print(f\"Elapsed time: {elapsed_time:.2f} seconds\")"
   ]
  },
  {
   "cell_type": "code",
   "execution_count": 21,
   "id": "7dc304d9",
   "metadata": {},
   "outputs": [
    {
     "name": "stdout",
     "output_type": "stream",
     "text": [
      "Data has been written to Single_Equation_mmr_q_bert_L0.50.json\n"
     ]
    }
   ],
   "source": [
    "makeJSON(s_seq, \"Single_Equation_mmr_q_bert_L0.50.json\")"
   ]
  },
  {
   "cell_type": "code",
   "execution_count": 22,
   "id": "47e9af0f",
   "metadata": {},
   "outputs": [
    {
     "name": "stdout",
     "output_type": "stream",
     "text": [
      "Elapsed time: 119.35 seconds\n",
      "Data has been written to StrategyQA_mmr_q_bert_L0.50.json\n"
     ]
    }
   ],
   "source": [
    "start_time = time.time()\n",
    "s_strat = MMRcaculation(strat70_Clist, 0.50, 'bert')\n",
    "end_time = time.time()\n",
    "elapsed_time = end_time - start_time\n",
    "print(f\"Elapsed time: {elapsed_time:.2f} seconds\")\n",
    "\n",
    "makeJSON(s_strat, \"StrategyQA_mmr_q_bert_L0.50.json\")\n"
   ]
  },
  {
   "cell_type": "code",
   "execution_count": 23,
   "id": "4287fd9c",
   "metadata": {},
   "outputs": [
    {
     "name": "stdout",
     "output_type": "stream",
     "text": [
      "Elapsed time: 2607.81 seconds\n"
     ]
    }
   ],
   "source": [
    "start_time = time.time()\n",
    "s_tso = MMRcaculation(tso70_Clist, 0.50, 'bert')\n",
    "end_time = time.time()\n",
    "elapsed_time = end_time - start_time\n",
    "print(f\"Elapsed time: {elapsed_time:.2f} seconds\")"
   ]
  },
  {
   "cell_type": "code",
   "execution_count": 24,
   "id": "8910551a",
   "metadata": {},
   "outputs": [
    {
     "name": "stdout",
     "output_type": "stream",
     "text": [
      "Data has been written to Tracking_Shuffled_Objects_mmr_q_bert_L0.50.json\n"
     ]
    }
   ],
   "source": [
    "makeJSON(s_tso, \"Tracking_Shuffled_Objects_mmr_q_bert_L0.50.json\")"
   ]
  },
  {
   "cell_type": "code",
   "execution_count": 25,
   "id": "4b81bdce",
   "metadata": {},
   "outputs": [],
   "source": [
    "#s_svamp = MMRcaculation(svamp70_Clist)"
   ]
  },
  {
   "cell_type": "code",
   "execution_count": 26,
   "id": "0d4950dd",
   "metadata": {},
   "outputs": [
    {
     "data": {
      "text/plain": [
       "'\\ndef pairWiseScore(df, rationale_list):\\n    for i in range(len(rationale_list)):\\n        for j in range(len(rationale_list)):\\n            if i == j:\\n                df.iloc[i, j] = 1.0\\n            else:\\n                score = calculate_rouge(rationale_list[i], rationale_list[j])\\n                df.iloc[i, j] = score[\\'rouge2\\'].fmeasure        # stores only ROUGE2 fmeasure (for now at least)\\n                \\n                \\nrationales = [\\'ci_0\\', \\'ci_1\\', \\'ci_2\\', \\'ci_3\\', \\'ci_4\\', \\'ci_5\\', \\'ci_6\\', \\'ci_7\\']\\ndf = pd.DataFrame(index=rationales, columns=rationales)\\npairWiseScore(df, rationale_list)\\n\\n\\ndef quesScore(question, rationale_list):\\n    d = dict()\\n    for i in range(len(rationale_list)):\\n        score = calculate_rouge(question, rationale_list[i])\\n        ci = \"ci_\" + str(i)\\n        d[ci] = score[\\'rouge2\\'].fmeasure\\n    return d\\n    \\n\\nques_sim_list = quesScore(question, rationale_list)\\nprint(ques_sim_list)\\n\\n\\n# S contains the rationale with the maximum similarity score with the question \\n# R contains the rationales other than the ones in S\\nmaxi = max(ques_sim_list.values())\\nS = [(key, value) for key, value in ques_sim_list.items() if value == maxi]\\nR = [(key, value) for key, value in ques_sim_list.items() if (key, value) not in S]\\n'"
      ]
     },
     "execution_count": 26,
     "metadata": {},
     "output_type": "execute_result"
    }
   ],
   "source": [
    "\"\"\"\n",
    "def pairWiseScore(df, rationale_list):\n",
    "    for i in range(len(rationale_list)):\n",
    "        for j in range(len(rationale_list)):\n",
    "            if i == j:\n",
    "                df.iloc[i, j] = 1.0\n",
    "            else:\n",
    "                score = calculate_rouge(rationale_list[i], rationale_list[j])\n",
    "                df.iloc[i, j] = score['rouge2'].fmeasure        # stores only ROUGE2 fmeasure (for now at least)\n",
    "                \n",
    "                \n",
    "rationales = ['ci_0', 'ci_1', 'ci_2', 'ci_3', 'ci_4', 'ci_5', 'ci_6', 'ci_7']\n",
    "df = pd.DataFrame(index=rationales, columns=rationales)\n",
    "pairWiseScore(df, rationale_list)\n",
    "\n",
    "\n",
    "def quesScore(question, rationale_list):\n",
    "    d = dict()\n",
    "    for i in range(len(rationale_list)):\n",
    "        score = calculate_rouge(question, rationale_list[i])\n",
    "        ci = \"ci_\" + str(i)\n",
    "        d[ci] = score['rouge2'].fmeasure\n",
    "    return d\n",
    "    \n",
    "\n",
    "ques_sim_list = quesScore(question, rationale_list)\n",
    "print(ques_sim_list)\n",
    "\n",
    "\n",
    "# S contains the rationale with the maximum similarity score with the question \n",
    "# R contains the rationales other than the ones in S\n",
    "maxi = max(ques_sim_list.values())\n",
    "S = [(key, value) for key, value in ques_sim_list.items() if value == maxi]\n",
    "R = [(key, value) for key, value in ques_sim_list.items() if (key, value) not in S]\n",
    "\"\"\"\n"
   ]
  },
  {
   "cell_type": "code",
   "execution_count": null,
   "id": "96dc30a1",
   "metadata": {},
   "outputs": [],
   "source": []
  },
  {
   "cell_type": "code",
   "execution_count": null,
   "id": "4fa23398",
   "metadata": {},
   "outputs": [],
   "source": []
  }
 ],
 "metadata": {
  "kernelspec": {
   "display_name": "Python 3 (ipykernel)",
   "language": "python",
   "name": "python3"
  },
  "language_info": {
   "codemirror_mode": {
    "name": "ipython",
    "version": 3
   },
   "file_extension": ".py",
   "mimetype": "text/x-python",
   "name": "python",
   "nbconvert_exporter": "python",
   "pygments_lexer": "ipython3",
   "version": "3.9.12"
  }
 },
 "nbformat": 4,
 "nbformat_minor": 5
}
